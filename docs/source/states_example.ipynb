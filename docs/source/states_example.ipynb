{
 "cells": [
  {
   "cell_type": "markdown",
   "metadata": {},
   "source": [
    "# Examples of the Application of states.py"
   ]
  },
  {
   "cell_type": "markdown",
   "metadata": {},
   "source": [
    "## Example 1\n",
    "\n",
    " Calling States() with default attributes:"
   ]
  },
  {
   "cell_type": "code",
   "execution_count": 3,
   "metadata": {},
   "outputs": [],
   "source": [
    "import sys\n",
    "import os\n",
    "\n",
    "sys.path.insert(0, os.path.abspath('../../'))\n",
    "\n",
    "from states import *\n",
    "\n",
    "state = States()"
   ]
  },
  {
   "cell_type": "markdown",
   "metadata": {},
   "source": [
    "Print a copy of:\n",
    "\n",
    "* num_qubits_copy: number of qubits N --> default is N = 1.\n",
    "* state_copy: initial state --> default is |0> = $\\left[ \n",
    "\\begin{array}{c}\n",
    "1 \\\\\n",
    "0\n",
    "\\end{array}\n",
    "\\right]\n",
    "$."
   ]
  },
  {
   "cell_type": "code",
   "execution_count": 4,
   "metadata": {},
   "outputs": [
    {
     "name": "stdout",
     "output_type": "stream",
     "text": [
      "1\n",
      "[[1]\n",
      " [0]]\n"
     ]
    }
   ],
   "source": [
    "num_qubits_copy = state.get_N()\n",
    "state_copy = state.get_state()\n",
    "\n",
    "print(num_qubits_copy)\n",
    "print(state_copy)"
   ]
  },
  {
   "cell_type": "markdown",
   "metadata": {},
   "source": [
    "## Application of the norm function.\n",
    "\n",
    "* Normalises state.\n",
    "\n",
    "    - Taking number of qubits equal to two: N = 2\n",
    "    - state:  $|\\Psi> = \\left[ \n",
    "\\begin{array}{c}\n",
    "1 \\\\\n",
    "1 \\\\\n",
    "1 \\\\\n",
    "1\n",
    "\\end{array}\n",
    "\\right]\n",
    "$.\n",
    "    - Returns normalised state: $|\\Psi> = \\frac{1}{2}\\left[ \n",
    "\\begin{array}{c}\n",
    "1 \\\\\n",
    "1 \\\\\n",
    "1 \\\\\n",
    "1\n",
    "\\end{array}\n",
    "\\right]\n",
    "$.\n"
   ]
  },
  {
   "cell_type": "code",
   "execution_count": 5,
   "metadata": {},
   "outputs": [
    {
     "name": "stdout",
     "output_type": "stream",
     "text": [
      "[[0.5]\n",
      " [0.5]\n",
      " [0.5]\n",
      " [0.5]]\n"
     ]
    }
   ],
   "source": [
    "state_norm = norm(2, [[1],[1],[1],[1]])\n",
    "print(state_norm)"
   ]
  },
  {
   "cell_type": "markdown",
   "metadata": {},
   "source": [
    "## Application of the tp function.\n",
    "\n",
    "* Computes tensor product of state $|\\Psi> = |\\psi_1>\\otimes|\\psi_2 > $.\n",
    "\n",
    "    - Taking state_1: $|\\psi_1> = \\left[ \n",
    "\\begin{array}{c}\n",
    "1 \\\\\n",
    "0 \n",
    "\\end{array}\n",
    "\\right]\n",
    "$ and state_2: $|\\Psi_2> = \\left[ \n",
    "\\begin{array}{c}\n",
    "0 \\\\\n",
    "1 \n",
    "\\end{array}\n",
    "\\right]\n",
    "$.\n",
    "    - It will return tensor product of state: $|\\Psi> = \\left[ \n",
    "\\begin{array}{c}\n",
    "0 \\\\\n",
    "1 \\\\\n",
    "0 \\\\\n",
    "0\n",
    "\\end{array}\n",
    "\\right]\n",
    "$."
   ]
  },
  {
   "cell_type": "code",
   "execution_count": 6,
   "metadata": {},
   "outputs": [
    {
     "name": "stdout",
     "output_type": "stream",
     "text": [
      "[[0]\n",
      " [1]\n",
      " [0]\n",
      " [0]]\n"
     ]
    }
   ],
   "source": [
    "tensor_product = tp([[1],[0]],[[0],[1]])\n",
    "print(tensor_product)"
   ]
  },
  {
   "cell_type": "markdown",
   "metadata": {},
   "source": [
    "## Application of the angle function.\n",
    "\n",
    "* Provides initial state given polar ($\\theta$) and azimuthal ($\\phi$) angles.\n",
    "\n",
    "    - Taking $\\theta = 90^o$ and $\\phi = 90^o$ with $|\\Psi> = cos(\\frac{\\theta}{2})|0> + i sin(\\frac{\\theta}{2}) e^{i\\phi}|1>$\n",
    "    - It will return state: $|\\Psi> = \\frac{1}{\\sqrt{2}} \\left[ \n",
    "\\begin{array}{c}\n",
    "1 \\\\\n",
    "i\n",
    "\\end{array}\n",
    "\\right]\n",
    "$.\n"
   ]
  },
  {
   "cell_type": "code",
   "execution_count": 7,
   "metadata": {},
   "outputs": [
    {
     "name": "stdout",
     "output_type": "stream",
     "text": [
      "[[0.70710678+0.j        ]\n",
      " [0.        +0.70710678j]]\n"
     ]
    }
   ],
   "source": [
    "state_angle = angle(90, 90)\n",
    "print(state_angle)"
   ]
  },
  {
   "cell_type": "markdown",
   "metadata": {},
   "source": [
    "## Example 2\n",
    "\n",
    "Calling States() but with different attributes:\n",
    "\n",
    " * number of qubits: N = 4.\n",
    " \n",
    " * state: State is a column vector formed of different built-in states to demonstrate how they're used.     \n",
    "    - Here we use PhiPlus().state which corresponds to $|\\phi^+>$ = $\\frac{|00> + |11>}{\\sqrt{2}} = \\frac{1}{\\sqrt{2}}\\left[ \n",
    "    \\begin{array}{c}\n",
    "    1 \\\\\n",
    "    0 \\\\\n",
    "    0 \\\\\n",
    "    1\n",
    "    \\end{array}\n",
    "    \\right]\n",
    "    $\n",
    "    - Tensor product of Zero().state (|0> = $\\left[ \n",
    "\\begin{array}{c}\n",
    "1 \\\\\n",
    "0 \n",
    "\\end{array}\n",
    "\\right]\n",
    "$) and One().state (|0> = $\\left[ \n",
    "\\begin{array}{c}\n",
    "0 \\\\\n",
    "1 \n",
    "\\end{array}\n",
    "\\right]\n",
    "$), which then correponds to |01> = $\\left[ \n",
    "\\begin{array}{c}\n",
    "0 \\\\\n",
    "1 \\\\\n",
    "0 \\\\\n",
    "0\n",
    "\\end{array}\n",
    "\\right]\n",
    "$\n",
    "    - The state then equals to $|\\Psi> = \\left[ \n",
    "\\begin{array}{c}\n",
    "\\frac{1}{\\sqrt{2}} \\\\\n",
    "0 \\\\\n",
    "0 \\\\\n",
    "\\frac{1}{\\sqrt{2}} \\\\\n",
    "0 \\\\\n",
    "1 \\\\\n",
    "0 \\\\\n",
    "0\n",
    "\\end{array}\n",
    "\\right]\n",
    "$"
   ]
  },
  {
   "cell_type": "code",
   "execution_count": 8,
   "metadata": {},
   "outputs": [
    {
     "ename": "TypeError",
     "evalue": "The length of initial states list for 4 qubit(s) is not 8. It should be equal to 16.",
     "output_type": "error",
     "traceback": [
      "\u001b[0;31m---------------------------------------------------------------------------\u001b[0m",
      "\u001b[0;31mTypeError\u001b[0m                                 Traceback (most recent call last)",
      "Cell \u001b[0;32mIn[8], line 4\u001b[0m\n\u001b[1;32m      1\u001b[0m s1 \u001b[38;5;241m=\u001b[39m States(\u001b[38;5;241m4\u001b[39m, np\u001b[38;5;241m.\u001b[39mvstack((PhiPlus()\u001b[38;5;241m.\u001b[39mstate, tp(Zero()\u001b[38;5;241m.\u001b[39mstate, One()\u001b[38;5;241m.\u001b[39mstate))))\n\u001b[1;32m      3\u001b[0m num_qubits_copy1 \u001b[38;5;241m=\u001b[39m s1\u001b[38;5;241m.\u001b[39mget_N()\n\u001b[0;32m----> 4\u001b[0m state_copy1 \u001b[38;5;241m=\u001b[39m \u001b[43ms1\u001b[49m\u001b[38;5;241;43m.\u001b[39;49m\u001b[43mget_state\u001b[49m\u001b[43m(\u001b[49m\u001b[43m)\u001b[49m\n\u001b[1;32m      6\u001b[0m \u001b[38;5;28mprint\u001b[39m(num_qubits_copy1)\n\u001b[1;32m      7\u001b[0m \u001b[38;5;28mprint\u001b[39m(state_copy1)\n",
      "File \u001b[0;32m~/Desktop/QC2 CDT/ITP/Python ITP/ITS_us/states.py:113\u001b[0m, in \u001b[0;36mStates.get_state\u001b[0;34m(self)\u001b[0m\n\u001b[1;32m    111\u001b[0m \u001b[38;5;66;03m#Checks if length of the state for N qubits is 2^N or else gives error and suggested correction.\u001b[39;00m\n\u001b[1;32m    112\u001b[0m \u001b[38;5;28;01mif\u001b[39;00m \u001b[38;5;28mlen\u001b[39m(copy) \u001b[38;5;241m!=\u001b[39m \u001b[38;5;241m2\u001b[39m\u001b[38;5;241m*\u001b[39m\u001b[38;5;241m*\u001b[39m\u001b[38;5;28mself\u001b[39m\u001b[38;5;241m.\u001b[39mN:\n\u001b[0;32m--> 113\u001b[0m     \u001b[38;5;28;01mraise\u001b[39;00m \u001b[38;5;167;01mTypeError\u001b[39;00m(\u001b[38;5;124m\"\u001b[39m\u001b[38;5;124mThe length of initial states list for \u001b[39m\u001b[38;5;124m\"\u001b[39m \u001b[38;5;241m+\u001b[39m \u001b[38;5;28mstr\u001b[39m(\u001b[38;5;28mself\u001b[39m\u001b[38;5;241m.\u001b[39mN) \u001b[38;5;241m+\u001b[39m \u001b[38;5;124m\"\u001b[39m\u001b[38;5;124m qubit(s) is not \u001b[39m\u001b[38;5;124m\"\u001b[39m \u001b[38;5;241m+\u001b[39m \u001b[38;5;28mstr\u001b[39m(\u001b[38;5;28mlen\u001b[39m(copy))\u001b[38;5;241m+\u001b[39m \u001b[38;5;124m\"\u001b[39m\u001b[38;5;124m. It should be equal to \u001b[39m\u001b[38;5;124m\"\u001b[39m \u001b[38;5;241m+\u001b[39m \u001b[38;5;28mstr\u001b[39m(\u001b[38;5;241m2\u001b[39m\u001b[38;5;241m*\u001b[39m\u001b[38;5;241m*\u001b[39m\u001b[38;5;28mself\u001b[39m\u001b[38;5;241m.\u001b[39mN) \u001b[38;5;241m+\u001b[39m\u001b[38;5;124m\"\u001b[39m\u001b[38;5;124m.\u001b[39m\u001b[38;5;124m\"\u001b[39m)\n\u001b[1;32m    115\u001b[0m \u001b[38;5;28;01mreturn\u001b[39;00m copy\n",
      "\u001b[0;31mTypeError\u001b[0m: The length of initial states list for 4 qubit(s) is not 8. It should be equal to 16."
     ]
    }
   ],
   "source": [
    "s1 = States(4, np.vstack((PhiPlus().state, tp(Zero().state, One().state))))\n",
    "\n",
    "num_qubits_copy1 = s1.get_N()\n",
    "state_copy1 = s1.get_state()\n",
    "\n",
    "print(num_qubits_copy1)\n",
    "print(state_copy1)\n"
   ]
  }
 ],
 "metadata": {
  "kernelspec": {
   "display_name": "base",
   "language": "python",
   "name": "python3"
  },
  "language_info": {
   "codemirror_mode": {
    "name": "ipython",
    "version": 3
   },
   "file_extension": ".py",
   "mimetype": "text/x-python",
   "name": "python",
   "nbconvert_exporter": "python",
   "pygments_lexer": "ipython3",
   "version": "3.10.15"
  }
 },
 "nbformat": 4,
 "nbformat_minor": 2
}
