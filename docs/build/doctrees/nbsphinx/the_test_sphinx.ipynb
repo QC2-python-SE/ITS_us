{
 "cells": [
  {
   "cell_type": "markdown",
   "id": "514ef3e6-c8de-4aa7-8b33-27c84bb120bb",
   "metadata": {},
   "source": [
    "## Here is an example"
   ]
  },
  {
   "cell_type": "code",
   "execution_count": 1,
   "id": "cdda50b5-dd62-443f-bdde-4aa8d21d645d",
   "metadata": {},
   "outputs": [],
   "source": [
    "import numpy as np"
   ]
  },
  {
   "cell_type": "code",
   "execution_count": 2,
   "id": "11a9a41c-5ee2-4e2f-8764-94db275e7f8f",
   "metadata": {},
   "outputs": [
    {
     "name": "stdout",
     "output_type": "stream",
     "text": [
      "3.141592653589793\n"
     ]
    }
   ],
   "source": [
    "print(np.pi)"
   ]
  },
  {
   "cell_type": "code",
   "execution_count": null,
   "id": "4e391a4c-354c-4643-9c23-2a2f2ff65c57",
   "metadata": {},
   "outputs": [],
   "source": []
  }
 ],
 "metadata": {
  "kernelspec": {
   "display_name": "Python 3 (ipykernel)",
   "language": "python",
   "name": "python3"
  },
  "language_info": {
   "codemirror_mode": {
    "name": "ipython",
    "version": 3
   },
   "file_extension": ".py",
   "mimetype": "text/x-python",
   "name": "python",
   "nbconvert_exporter": "python",
   "pygments_lexer": "ipython3",
   "version": "3.9.16"
  }
 },
 "nbformat": 4,
 "nbformat_minor": 5
}
