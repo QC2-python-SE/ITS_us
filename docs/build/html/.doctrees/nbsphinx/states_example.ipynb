{
 "cells": [
  {
   "cell_type": "markdown",
   "metadata": {},
   "source": [
    "# Examples of the application of states.py script."
   ]
  },
  {
   "cell_type": "markdown",
   "metadata": {},
   "source": [
    "## Example 1\n",
    "\n",
    "### Calling States()."
   ]
  },
  {
   "cell_type": "code",
   "execution_count": 32,
   "metadata": {},
   "outputs": [],
   "source": [
    "import sys\n",
    "import os\n",
    "\n",
    "current_dir = os.getcwd()\n",
    "sys.path.append(current_dir)\n",
    "\n",
    "from states import *\n",
    "\n",
    "state = States()"
   ]
  },
  {
   "cell_type": "markdown",
   "metadata": {},
   "source": [
    "### Print a copy of num_qubits_copy (number of qubits N) and state_copy (initial state 1)."
   ]
  },
  {
   "cell_type": "code",
   "execution_count": 33,
   "metadata": {},
   "outputs": [
    {
     "name": "stdout",
     "output_type": "stream",
     "text": [
      "1\n",
      "[[1]\n",
      " [0]]\n"
     ]
    }
   ],
   "source": [
    "num_qubits_copy = state.get_N()\n",
    "state_copy = state.get_state()\n",
    "\n",
    "print(num_qubits_copy)\n",
    "print(state_copy)"
   ]
  },
  {
   "cell_type": "markdown",
   "metadata": {},
   "source": [
    "## Application of the norm function (normalises state)."
   ]
  },
  {
   "cell_type": "code",
   "execution_count": 34,
   "metadata": {},
   "outputs": [
    {
     "name": "stdout",
     "output_type": "stream",
     "text": [
      "[[0.5]\n",
      " [0.5]\n",
      " [0.5]\n",
      " [0.5]]\n"
     ]
    }
   ],
   "source": [
    "state_norm = norm(2, [[1],[1],[1],[1]])\n",
    "print(state_norm)"
   ]
  },
  {
   "cell_type": "markdown",
   "metadata": {},
   "source": [
    "## Application of the tp function (computes tensor product of state)."
   ]
  },
  {
   "cell_type": "code",
   "execution_count": 35,
   "metadata": {},
   "outputs": [
    {
     "name": "stdout",
     "output_type": "stream",
     "text": [
      "[[0]\n",
      " [1]\n",
      " [0]\n",
      " [0]]\n"
     ]
    }
   ],
   "source": [
    "tensor_product = tp([[1],[0]],[[0],[1]])\n",
    "print(tensor_product)"
   ]
  },
  {
   "cell_type": "markdown",
   "metadata": {},
   "source": [
    "## Application of the angle function (provides initial state given polar and azimuthal angles)."
   ]
  },
  {
   "cell_type": "code",
   "execution_count": 36,
   "metadata": {},
   "outputs": [
    {
     "name": "stdout",
     "output_type": "stream",
     "text": [
      "[[0.70710678+0.j        ]\n",
      " [0.        +0.70710678j]]\n"
     ]
    }
   ],
   "source": [
    "state_angle = angle(90, 90)\n",
    "print(state_angle)"
   ]
  },
  {
   "cell_type": "markdown",
   "metadata": {},
   "source": [
    "## Example 2\n",
    "\n",
    "### Calling States() but with different attributes."
   ]
  },
  {
   "cell_type": "code",
   "execution_count": 37,
   "metadata": {},
   "outputs": [
    {
     "name": "stdout",
     "output_type": "stream",
     "text": [
      "4\n",
      "[[0.70710678]\n",
      " [0.        ]\n",
      " [0.        ]\n",
      " [0.70710678]\n",
      " [0.        ]\n",
      " [1.        ]\n",
      " [0.        ]\n",
      " [0.        ]]\n"
     ]
    }
   ],
   "source": [
    "s1 = States(4, np.vstack((PhiPlus().state, tp(Zero().state, One().state))))\n",
    "\n",
    "num_qubits_copy1 = s1.get_N()\n",
    "state_copy1 = s1.get_state()\n",
    "\n",
    "print(num_qubits_copy1)\n",
    "print(state_copy1)\n"
   ]
  }
 ],
 "metadata": {
  "kernelspec": {
   "display_name": "qp",
   "language": "python",
   "name": "python3"
  },
  "language_info": {
   "codemirror_mode": {
    "name": "ipython",
    "version": 3
   },
   "file_extension": ".py",
   "mimetype": "text/x-python",
   "name": "python",
   "nbconvert_exporter": "python",
   "pygments_lexer": "ipython3",
   "version": "3.10.15"
  }
 },
 "nbformat": 4,
 "nbformat_minor": 2
}
