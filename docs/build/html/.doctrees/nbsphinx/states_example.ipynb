{
 "cells": [
  {
   "cell_type": "markdown",
   "metadata": {},
   "source": [
    "# Examples of the Application of states.py"
   ]
  },
  {
   "cell_type": "markdown",
   "metadata": {},
   "source": [
    "## Example 1\n",
    "\n",
    " Calling States() with default attributes:"
   ]
  },
  {
   "cell_type": "code",
   "execution_count": 22,
   "metadata": {},
   "outputs": [],
   "source": [
    "import sys\n",
    "import os\n",
    "\n",
    "sys.path.insert(0, os.path.abspath('../../'))\n",
    "\n",
    "from states import *\n",
    "\n",
    "state = States()"
   ]
  },
  {
   "cell_type": "markdown",
   "metadata": {},
   "source": [
    "Print a copy of:\n",
    "\n",
    "* num_qubits_copy: number of qubits N --> default is N = 1.\n",
    "* state_copy: initial state --> default is |0> = $\\left[ \n",
    "\\begin{array}{c}\n",
    "1 \\\\\n",
    "0\n",
    "\\end{array}\n",
    "\\right]\n",
    "$."
   ]
  },
  {
   "cell_type": "code",
   "execution_count": 23,
   "metadata": {},
   "outputs": [
    {
     "name": "stdout",
     "output_type": "stream",
     "text": [
      "1\n",
      "[[1]\n",
      " [0]]\n"
     ]
    }
   ],
   "source": [
    "num_qubits_copy = state.get_N()\n",
    "state_copy = state.get_state()\n",
    "\n",
    "print(num_qubits_copy)\n",
    "print(state_copy)"
   ]
  },
  {
   "cell_type": "markdown",
   "metadata": {},
   "source": [
    "## Application of the norm function.\n",
    "\n",
    "* Normalises state.\n",
    "\n",
    "    - Taking number of qubits equal to two: N = 2\n",
    "    - state:  $|\\Psi> = \\left[ \n",
    "\\begin{array}{c}\n",
    "1 \\\\\n",
    "1 \\\\\n",
    "1 \\\\\n",
    "1\n",
    "\\end{array}\n",
    "\\right]\n",
    "$.\n",
    "    - Returns normalised state: $|\\Psi> = \\frac{1}{2}\\left[ \n",
    "\\begin{array}{c}\n",
    "1 \\\\\n",
    "1 \\\\\n",
    "1 \\\\\n",
    "1\n",
    "\\end{array}\n",
    "\\right]\n",
    "$.\n"
   ]
  },
  {
   "cell_type": "code",
   "execution_count": 24,
   "metadata": {},
   "outputs": [
    {
     "name": "stdout",
     "output_type": "stream",
     "text": [
      "[[0.5]\n",
      " [0.5]\n",
      " [0.5]\n",
      " [0.5]]\n"
     ]
    }
   ],
   "source": [
    "state_norm = norm(2, [[1],[1],[1],[1]])\n",
    "print(state_norm)"
   ]
  },
  {
   "cell_type": "markdown",
   "metadata": {},
   "source": [
    "## Application of the tp function.\n",
    "\n",
    "* Computes tensor product of state $|\\Psi> = |\\psi_{1}> \\otimes |\\psi_{2} >$.\n",
    "\n",
    "    - Taking state_1: $|\\psi_1> = \\left[ \n",
    "\\begin{array}{c}\n",
    "1 \\\\\n",
    "0 \n",
    "\\end{array}\n",
    "\\right]\n",
    "$ and state_2: $|\\Psi_2> = \\left[ \n",
    "\\begin{array}{c}\n",
    "0 \\\\\n",
    "1 \n",
    "\\end{array}\n",
    "\\right]\n",
    "$.\n",
    "    - It will return tensor product of state: $|\\Psi> = \\left[ \n",
    "\\begin{array}{c}\n",
    "0 \\\\\n",
    "1 \\\\\n",
    "0 \\\\\n",
    "0\n",
    "\\end{array}\n",
    "\\right]\n",
    "$."
   ]
  },
  {
   "cell_type": "code",
   "execution_count": 25,
   "metadata": {},
   "outputs": [
    {
     "name": "stdout",
     "output_type": "stream",
     "text": [
      "[[0]\n",
      " [1]\n",
      " [0]\n",
      " [0]]\n"
     ]
    }
   ],
   "source": [
    "tensor_product = tp([[1],[0]],[[0],[1]])\n",
    "print(tensor_product)"
   ]
  },
  {
   "cell_type": "markdown",
   "metadata": {},
   "source": [
    "## Application of the angle function.\n",
    "\n",
    "* Provides initial state given polar ($\\theta$) and azimuthal ($\\phi$) angles.\n",
    "\n",
    "    - Taking $\\theta = 90^o$ and $\\phi = 90^o$ with $|\\Psi> = cos(\\frac{\\theta}{2})|0> + i sin(\\frac{\\theta}{2}) e^{i\\phi}|1>$\n",
    "    - It will return state: $|\\Psi> = \\frac{1}{\\sqrt{2}} \\left[ \n",
    "\\begin{array}{c}\n",
    "1 \\\\\n",
    "i\n",
    "\\end{array}\n",
    "\\right]\n",
    "$.\n"
   ]
  },
  {
   "cell_type": "code",
   "execution_count": 26,
   "metadata": {},
   "outputs": [
    {
     "name": "stdout",
     "output_type": "stream",
     "text": [
      "[[0.70710678+0.j        ]\n",
      " [0.        +0.70710678j]]\n"
     ]
    }
   ],
   "source": [
    "state_angle = angle(90, 90)\n",
    "print(state_angle)"
   ]
  },
  {
   "cell_type": "markdown",
   "metadata": {},
   "source": [
    "## Example 2\n",
    "\n",
    "Calling States() but with different attributes:\n",
    "\n",
    " * number of qubits: N = 3.\n",
    " \n",
    " * state: State is a column vector formed of different built-in states to demonstrate how they're used.     \n",
    "    - Here we use PhiPlus().state which corresponds to $|\\phi^{+}>$ $\\frac{|00> + |11>}{\\sqrt{2}}$ = $\\frac{1}{\\sqrt{2}}$ $\\left[ \n",
    "\\begin{array}{c}\n",
    "1 \\\\\n",
    "0 \\\\\n",
    "0 \\\\\n",
    "1\n",
    "\\end{array}\n",
    "\\right]\n",
    "$\n",
    "    - Tensor product of Zero().state (|0> = $\\left[ \n",
    "\\begin{array}{c}\n",
    "1 \\\\\n",
    "0 \n",
    "\\end{array}\n",
    "\\right]\n",
    "$) and One().state (|0> = $\\left[ \n",
    "\\begin{array}{c}\n",
    "0 \\\\\n",
    "1 \n",
    "\\end{array}\n",
    "\\right]\n",
    "$), which then correponds to |01> = $\\left[ \n",
    "\\begin{array}{c}\n",
    "0 \\\\\n",
    "1 \\\\\n",
    "0 \\\\\n",
    "0\n",
    "\\end{array}\n",
    "\\right]\n",
    "$\n",
    "    - The state then equals to $|\\Psi> = \\left[ \n",
    "\\begin{array}{c}\n",
    "\\frac{1}{\\sqrt{2}} \\\\\n",
    "0 \\\\\n",
    "0 \\\\\n",
    "\\frac{1}{\\sqrt{2}} \\\\\n",
    "0 \\\\\n",
    "1 \\\\\n",
    "0 \\\\\n",
    "0\n",
    "\\end{array}\n",
    "\\right]\n",
    "$"
   ]
  },
  {
   "cell_type": "code",
   "execution_count": 27,
   "metadata": {},
   "outputs": [
    {
     "name": "stdout",
     "output_type": "stream",
     "text": [
      "3\n",
      "[[0.70710678]\n",
      " [0.        ]\n",
      " [0.        ]\n",
      " [0.70710678]\n",
      " [0.        ]\n",
      " [1.        ]\n",
      " [0.        ]\n",
      " [0.        ]]\n"
     ]
    }
   ],
   "source": [
    "s1 = States(3, np.vstack((PhiPlus().state, tp(Zero().state, One().state))))\n",
    "\n",
    "num_qubits_copy1 = s1.get_N()\n",
    "state_copy1 = s1.get_state()\n",
    "\n",
    "print(num_qubits_copy1)\n",
    "print(state_copy1)\n"
   ]
  }
 ],
 "metadata": {
  "kernelspec": {
   "display_name": "base",
   "language": "python",
   "name": "python3"
  },
  "language_info": {
   "codemirror_mode": {
    "name": "ipython",
    "version": 3
   },
   "file_extension": ".py",
   "mimetype": "text/x-python",
   "name": "python",
   "nbconvert_exporter": "python",
   "pygments_lexer": "ipython3",
   "version": "3.10.15"
  }
 },
 "nbformat": 4,
 "nbformat_minor": 2
}
