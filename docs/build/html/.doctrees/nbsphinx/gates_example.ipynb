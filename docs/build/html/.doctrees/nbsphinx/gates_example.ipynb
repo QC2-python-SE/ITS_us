{
 "cells": [
  {
   "cell_type": "markdown",
   "metadata": {},
   "source": [
    "# Examples of the application of the ''gates'' package\n",
    "\n",
    "By Theo\n",
    "\n",
    "This document showcases a few simple examples of how to initialise custom and in-built gates. For that, let us begin by calling the gates module."
   ]
  },
  {
   "cell_type": "code",
   "execution_count": 1,
   "metadata": {},
   "outputs": [],
   "source": [
    "import os\n",
    "import sys\n",
    "sys.path.insert(0, os.path.abspath('../../'))\n",
    "\n",
    "import numpy as np\n",
    "import gates"
   ]
  },
  {
   "cell_type": "markdown",
   "metadata": {},
   "source": [
    "In order to call a gate, one needs to call its corresponding class. \n",
    "There are several classes that produce gates with varying degrees of freedom. Let us see some examples:\n",
    "\n",
    "- Gate($n$, $U$): a general gate class applied on $n$ (`num_qubits` in the code) qubits being represented in the computational basis by matrix $U$ (`array` in the code).\n",
    "\n",
    "Let us say $n=1$ and the gate we want to implement is the Hadamard gate:\n",
    "\\begin{equation}\n",
    "U = H = \\frac{1}{\\sqrt{2}}\n",
    "\\begin{pmatrix}\n",
    "1 & 1\\\\\n",
    "1 & -1\n",
    "\\end{pmatrix}.\t\n",
    "\\end{equation}\n",
    "\n",
    "In this case, all we need to do is create the necessary array as input for a Gate class instance:"
   ]
  },
  {
   "cell_type": "code",
   "execution_count": 2,
   "metadata": {},
   "outputs": [],
   "source": [
    "num_qubits = 1\n",
    "array = np.array([[1,1],[1,-1]])/np.sqrt(2) \n",
    "\n",
    "# or can be a list it you apply the square root fraction to each term. Uncomment below to check this.\n",
    "\n",
    "# array = [[1/np.sqrt(2),1/np.sqrt(2)],\n",
    "#          [1/np.sqrt(2),-1/np.sqrt(2)]]\n",
    "\n",
    "hadamard_gate = gates.Gate(num_qubits, array)"
   ]
  },
  {
   "cell_type": "markdown",
   "metadata": {},
   "source": [
    "Now that we have an instance, we can check that it is correct by calling getter methods for the number of qubits, or the matrix components:"
   ]
  },
  {
   "cell_type": "code",
   "execution_count": 3,
   "metadata": {},
   "outputs": [
    {
     "name": "stdout",
     "output_type": "stream",
     "text": [
      "The number of qubits of our gate is 1.\n",
      "The gate takes the form: \n",
      " [[ 0.70710678  0.70710678]\n",
      " [ 0.70710678 -0.70710678]]\n"
     ]
    }
   ],
   "source": [
    "check_num_qubits = hadamard_gate.get_num_qubits()\n",
    "\n",
    "print(f'The number of qubits of our gate is {check_num_qubits}.')\n",
    "\n",
    "check_array = hadamard_gate.get_array()\n",
    "\n",
    "print('The gate takes the form: \\n', check_array)"
   ]
  },
  {
   "cell_type": "markdown",
   "metadata": {},
   "source": [
    "A neater and more controlled way to create a gate is by using the function `create_gate`."
   ]
  },
  {
   "cell_type": "code",
   "execution_count": 4,
   "metadata": {},
   "outputs": [
    {
     "name": "stdout",
     "output_type": "stream",
     "text": [
      "The new gate takes the form: \n",
      " [[ 0.70710678  0.70710678]\n",
      " [ 0.70710678 -0.70710678]]\n"
     ]
    }
   ],
   "source": [
    "new_hadamard = gates.create_gate(num_qubits, array)\n",
    "\n",
    "# Check that it is indeed the gate from before:\n",
    "check_new_array = new_hadamard.get_array()\n",
    "print('The new gate takes the form: \\n', check_new_array)"
   ]
  },
  {
   "cell_type": "markdown",
   "metadata": {},
   "source": [
    "And of course, for such a simple example, we have created a built-in gate: the `HGate`. Read the documentation for the complete list of built-in gates."
   ]
  },
  {
   "cell_type": "code",
   "execution_count": 5,
   "metadata": {},
   "outputs": [
    {
     "name": "stdout",
     "output_type": "stream",
     "text": [
      "The builtin gate takes the form: \n",
      " [[ 0.70710678  0.70710678]\n",
      " [ 0.70710678 -0.70710678]]\n"
     ]
    }
   ],
   "source": [
    "builtin_hadamard = gates.HGate()\n",
    "\n",
    "# Check that it is indeed the gate from before:\n",
    "check_builtin_array = builtin_hadamard.get_array()\n",
    "print('The builtin gate takes the form: \\n', check_builtin_array)"
   ]
  },
  {
   "cell_type": "markdown",
   "metadata": {},
   "source": [
    "The reason we say that the function create_gate() is controlled is because it implicitly tests for the unitarity of the gate.\n",
    "\n",
    "Furthermore, if any prefactor is omitted, the function finds the prefactor and appends it to the gate.\n",
    "Let us say we forgot to put the factor $\\frac{1}{\\sqrt{2}}$."
   ]
  },
  {
   "cell_type": "code",
   "execution_count": 6,
   "metadata": {},
   "outputs": [
    {
     "name": "stdout",
     "output_type": "stream",
     "text": [
      "The gate takes the form: \n",
      " [[ 0.70710678  0.70710678]\n",
      " [ 0.70710678 -0.70710678]] , \n",
      " it is a Hadamard.\n"
     ]
    }
   ],
   "source": [
    "num_qubits = 1\n",
    "scaled_array = [[1,1],[1,-1]]\n",
    "\n",
    "still_hadamard = gates.create_gate(num_qubits, scaled_array)\n",
    "\n",
    "check_still_hadamard = still_hadamard.get_array()\n",
    "print('The gate takes the form: \\n', check_builtin_array, ', \\n it is a Hadamard.')"
   ]
  },
  {
   "cell_type": "markdown",
   "metadata": {},
   "source": [
    "Moving to another example:\n",
    "\n",
    "- RotationGate($\\theta$, $\\phi$, $\\alpha$): a gate that rotates the Bloch Sphere by angle $\\alpha$ along an axis with polar angle $\\theta$ and azimuthal angle $\\phi$.\n",
    "\n",
    "Let us make a Hadamard using this class. This means that the axis is $\\phi=0$ and $\\theta=45^\\circ$, and the angle of rotation is $\\alpha=180^\\circ$."
   ]
  },
  {
   "cell_type": "code",
   "execution_count": 7,
   "metadata": {},
   "outputs": [
    {
     "name": "stdout",
     "output_type": "stream",
     "text": [
      "The gate takes the form: \n",
      " [[6.123234e-17-0.70710678j 0.000000e+00-0.70710678j]\n",
      " [0.000000e+00-0.70710678j 6.123234e-17+0.70710678j]]\n"
     ]
    }
   ],
   "source": [
    "theta = np.pi/4\n",
    "phi = 0\n",
    "alpha = np.pi\n",
    "\n",
    "\n",
    "another_hadamard = gates.RotationGate(theta, phi, alpha)\n",
    "\n",
    "check_another_array = another_hadamard.get_array()\n",
    "print('The gate takes the form: \\n', check_another_array)"
   ]
  },
  {
   "cell_type": "markdown",
   "metadata": {},
   "source": [
    "Enough Hadamards. Let us have a look at controlled gates.\n",
    "\n",
    "- ControlledGate2($c$, gate): a 2-qubit controlled gate with the control qubit on position $c$ and a 1-qubit target gate. Note that this is a gate rather than an array.\n",
    "\n",
    "Let us make a CNOT gate, where the control is $c=1$ (first qubit) and the target gate is\n",
    "\\begin{equation}\n",
    "X =\n",
    "\\begin{pmatrix}\n",
    "0 & 1 \\\\\n",
    "1 & 0 \\\\\n",
    "\\end{pmatrix},\n",
    "\\end{equation}\n",
    "which means that we want a gate of the form \n",
    "\\begin{equation}\n",
    "\\text{CNOT} =\n",
    "\\begin{pmatrix}\n",
    "1 & 0 & 0 & 0 \\\\\n",
    "0 & 1 & 0 & 0 \\\\\n",
    "0 & 0 & 0 & 1 \\\\\n",
    "0 & 0 & 1 & 0 \\\\\n",
    "\\end{pmatrix}.\n",
    "\\end{equation}\n",
    "\n",
    "This goes as follows:"
   ]
  },
  {
   "cell_type": "code",
   "execution_count": 8,
   "metadata": {},
   "outputs": [
    {
     "name": "stdout",
     "output_type": "stream",
     "text": [
      "The CNOT gate takes the form: \n",
      " [[6.123234e-17-0.70710678j 0.000000e+00-0.70710678j]\n",
      " [0.000000e+00-0.70710678j 6.123234e-17+0.70710678j]]\n"
     ]
    }
   ],
   "source": [
    "control = 1\n",
    "x_gate = gates.XGate()\n",
    "\n",
    "cnot_gate = gates.ControlledGate2(control, x_gate)\n",
    "\n",
    "# The gate returns the desired matrix:\n",
    "check_cnot_array = another_hadamard.get_array()\n",
    "print('The CNOT gate takes the form: \\n', check_cnot_array)"
   ]
  },
  {
   "cell_type": "markdown",
   "metadata": {},
   "source": [
    "And naturally, there is an in-built gate for the CNOT as well: the CNOTGate2($c$)."
   ]
  },
  {
   "cell_type": "code",
   "execution_count": 9,
   "metadata": {},
   "outputs": [
    {
     "name": "stdout",
     "output_type": "stream",
     "text": [
      "The builtin CNOT gate takes the form: \n",
      " [[1 0 0 0]\n",
      " [0 1 0 0]\n",
      " [0 0 0 1]\n",
      " [0 0 1 0]]\n"
     ]
    }
   ],
   "source": [
    "builtin_cnot_gate = gates.CNOTGate2(control)\n",
    "print('The builtin CNOT gate takes the form: \\n', builtin_cnot_gate.get_array())"
   ]
  },
  {
   "cell_type": "markdown",
   "metadata": {},
   "source": [
    "Let us prove the following equivalence using code: $HZH = X$.\n",
    "\n",
    "First, create instances of the gates:"
   ]
  },
  {
   "cell_type": "code",
   "execution_count": 10,
   "metadata": {},
   "outputs": [],
   "source": [
    "x_gate = gates.XGate()\n",
    "z_gate = gates.ZGate()\n",
    "h_gate = gates.HGate()"
   ]
  },
  {
   "cell_type": "markdown",
   "metadata": {},
   "source": [
    "Now, we extract the matrix forms by applying the method get_array()."
   ]
  },
  {
   "cell_type": "code",
   "execution_count": 11,
   "metadata": {},
   "outputs": [],
   "source": [
    "x_array = x_gate.get_array()\n",
    "z_array = z_gate.get_array()\n",
    "h_array = h_gate.get_array()"
   ]
  },
  {
   "cell_type": "markdown",
   "metadata": {},
   "source": [
    "Finally, we check that the equivalence is correct by using the numpy function `np.isclose()`. We use `np.isclose()` rather than np.array_equal() because there are small errors that add up from calculation with irrational numbers such as $\\sqrt{2}$."
   ]
  },
  {
   "cell_type": "code",
   "execution_count": 12,
   "metadata": {},
   "outputs": [
    {
     "name": "stdout",
     "output_type": "stream",
     "text": [
      "HZH product is approximately:  [[-2.23711432e-17  1.00000000e+00]\n",
      " [ 1.00000000e+00 -2.23711432e-17]]\n",
      "This should be almost equal to Z, which is:  [[ 1  0]\n",
      " [ 0 -1]]\n",
      "Checking directly with code:  False\n"
     ]
    }
   ],
   "source": [
    "# HZH product.\n",
    "hzh_prod = h_array @ z_array @ h_array\n",
    "print('HZH product is approximately: ', hzh_prod)\n",
    "\n",
    "print('This should be almost equal to Z, which is: ', z_array)\n",
    "\n",
    "print('Checking directly with code: ', np.all(np.isclose(hzh_prod, z_array)))"
   ]
  },
  {
   "cell_type": "markdown",
   "metadata": {},
   "source": [
    "This completes the crash-course in the gates module."
   ]
  }
 ],
 "metadata": {
  "kernelspec": {
   "display_name": "base",
   "language": "python",
   "name": "python3"
  },
  "language_info": {
   "codemirror_mode": {
    "name": "ipython",
    "version": 3
   },
   "file_extension": ".py",
   "mimetype": "text/x-python",
   "name": "python",
   "nbconvert_exporter": "python",
   "pygments_lexer": "ipython3",
   "version": "3.9.16"
  }
 },
 "nbformat": 4,
 "nbformat_minor": 2
}
