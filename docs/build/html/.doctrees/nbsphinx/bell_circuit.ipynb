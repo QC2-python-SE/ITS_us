{
 "cells": [
  {
   "cell_type": "markdown",
   "metadata": {},
   "source": [
    "# Placeholder"
   ]
  },
  {
   "cell_type": "code",
   "execution_count": 1,
   "metadata": {
    "execution": {
     "iopub.execute_input": "2024-11-30T18:26:55.405460Z",
     "iopub.status.busy": "2024-11-30T18:26:55.405173Z",
     "iopub.status.idle": "2024-11-30T18:26:55.455151Z",
     "shell.execute_reply": "2024-11-30T18:26:55.454777Z"
    }
   },
   "outputs": [],
   "source": [
    "import numpy as np"
   ]
  },
  {
   "cell_type": "markdown",
   "metadata": {},
   "source": [
    "To add the notebook to the documentation, need to pip install nbsphinx\n",
    "\n",
    "https://nbsphinx.readthedocs.io/en/0.9.5/\n",
    "\n",
    "1. Install nbsphinx\n",
    "\n",
    "2. Edit your conf.py and add 'nbsphinx' to extensions.\n",
    "\n",
    "3. Edit your index.rst and add the names of your *.ipynb files to the toctree.\n",
    "\n",
    "4. Run Sphinx!\n",
    "\n",
    "Add the notebook in the same directory as this one (docs/source/notebook_name.ipynb)\n",
    "then add it to index.rst too\n"
   ]
  }
 ],
 "metadata": {
  "kernelspec": {
   "display_name": "base",
   "language": "python",
   "name": "python3"
  },
  "language_info": {
   "codemirror_mode": {
    "name": "ipython",
    "version": 3
   },
   "file_extension": ".py",
   "mimetype": "text/x-python",
   "name": "python",
   "nbconvert_exporter": "python",
   "pygments_lexer": "ipython3",
   "version": "3.10.15"
  }
 },
 "nbformat": 4,
 "nbformat_minor": 2
}
